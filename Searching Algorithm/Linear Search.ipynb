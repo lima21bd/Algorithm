{
 "cells": [
  {
   "cell_type": "code",
   "execution_count": 1,
   "metadata": {},
   "outputs": [
    {
     "name": "stdout",
     "output_type": "stream",
     "text": [
      "Instruction: By clicking 'E' or 'e' , user input taking will be completed.\n",
      "Press 'Enter' to continue\n"
     ]
    }
   ],
   "source": [
    "print(\"Instruction: By clicking 'E' or 'e' , user input taking will be completed.\")\n",
    "\n",
    "print(\"Press 'Enter' to continue\")"
   ]
  },
  {
   "cell_type": "code",
   "execution_count": 2,
   "metadata": {},
   "outputs": [],
   "source": [
    "lst = []"
   ]
  },
  {
   "cell_type": "code",
   "execution_count": 3,
   "metadata": {},
   "outputs": [
    {
     "name": "stdout",
     "output_type": "stream",
     "text": [
      "-2\n",
      "-1\n",
      "0\n",
      "1\n",
      "2\n",
      "4\n",
      "5\n",
      "110\n",
      "75\n",
      "e\n",
      "Input taking completed!\n",
      "[-2, -1, 0, 1, 2, 4, 5, 110, 75]\n"
     ]
    }
   ],
   "source": [
    "while True:\n",
    "    \n",
    "    i = input()\n",
    "    \n",
    "    if i == 'E' or i == 'e':\n",
    "        \n",
    "        break\n",
    "        \n",
    "    else:\n",
    "        \n",
    "        i = int(i)\n",
    "        lst = lst + [i]\n",
    "        \n",
    "print(\"Input taking completed!\")\n",
    "\n",
    "print(lst)"
   ]
  },
  {
   "cell_type": "code",
   "execution_count": 4,
   "metadata": {},
   "outputs": [
    {
     "name": "stdout",
     "output_type": "stream",
     "text": [
      "Enter whatever you want to search....\n",
      "75\n"
     ]
    }
   ],
   "source": [
    "print('Enter whatever you want to search....')\n",
    "\n",
    "find = int(input())"
   ]
  },
  {
   "cell_type": "code",
   "execution_count": 5,
   "metadata": {},
   "outputs": [
    {
     "name": "stdout",
     "output_type": "stream",
     "text": [
      "Position:  [9]\n"
     ]
    }
   ],
   "source": [
    "position = 0\n",
    "\n",
    "flag = 0\n",
    "\n",
    "track_position = []\n",
    "\n",
    "for element in lst:\n",
    "    \n",
    "    position = position + 1\n",
    "    \n",
    "    if element == find:\n",
    "        \n",
    "        flag = flag + 1\n",
    "        \n",
    "        track_position = track_position + [position]\n",
    "        \n",
    "print('Position: ', track_position)\n",
    "\n",
    "if flag == 0 :\n",
    "        \n",
    "    print('Oops!!! What you have searched is not in the list!')\n",
    "    "
   ]
  }
 ],
 "metadata": {
  "kernelspec": {
   "display_name": "Python 3",
   "language": "python",
   "name": "python3"
  },
  "language_info": {
   "codemirror_mode": {
    "name": "ipython",
    "version": 3
   },
   "file_extension": ".py",
   "mimetype": "text/x-python",
   "name": "python",
   "nbconvert_exporter": "python",
   "pygments_lexer": "ipython3",
   "version": "3.7.4"
  }
 },
 "nbformat": 4,
 "nbformat_minor": 2
}
